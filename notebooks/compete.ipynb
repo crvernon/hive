{
 "cells": [
  {
   "cell_type": "markdown",
   "id": "ac66736b-36fc-46f3-9f33-87dfae009787",
   "metadata": {},
   "source": [
    "## technology competition"
   ]
  },
  {
   "cell_type": "markdown",
   "id": "04dde686-b0ed-4d8b-80a6-d11bcf3cd472",
   "metadata": {},
   "source": [
    "The following is a step-by-step walkthrough of the competition algorithm used in CERF."
   ]
  },
  {
   "cell_type": "code",
   "execution_count": 70,
   "id": "2e646cdd-d0b4-43e6-9ade-ab91ccadcdf2",
   "metadata": {},
   "outputs": [],
   "source": [
    "import os\n",
    "import pickle\n",
    "\n",
    "import numpy as np\n",
    "import pandas as pd\n",
    "import matplotlib as mpl\n",
    "import matplotlib.pyplot as plt\n"
   ]
  },
  {
   "cell_type": "markdown",
   "id": "376d8de5-55dd-4eae-ae24-067f767c918d",
   "metadata": {},
   "source": [
    "## Helper functions"
   ]
  },
  {
   "cell_type": "code",
   "execution_count": 74,
   "id": "69d0a854-63d7-44ff-b241-e13f1fcde711",
   "metadata": {},
   "outputs": [],
   "source": [
    "def plot_array(arr, title=\"\", figsize=(8, 5)):\n",
    "    \"\"\"Plot 2D array with colorbar.\"\"\"\n",
    "\n",
    "    fig = plt.figure(figsize=figsize)\n",
    "\n",
    "    ax = fig.add_subplot(111)\n",
    "    ax.set_title(title)\n",
    "\n",
    "    plt.imshow(arr)\n",
    "\n",
    "    ax.set_aspect('equal')\n",
    "\n",
    "    cax = fig.add_axes([0.12, 0.1, 0.78, 0.8])\n",
    "\n",
    "    cax.get_xaxis().set_visible(False)\n",
    "    cax.get_yaxis().set_visible(False)\n",
    "    cax.patch.set_alpha(0)\n",
    "    cax.set_frame_on(False)\n",
    "\n",
    "    plt.show()\n",
    "\n",
    "\n",
    "def plot_array_wbar(arr, title=\"\"):\n",
    "    \"\"\"Plot 2D array with colorbar.\"\"\"\n",
    "\n",
    "    fig = plt.figure(figsize=(8, 5))\n",
    "\n",
    "    ax = fig.add_subplot(111)\n",
    "    ax.set_title(title)\n",
    "\n",
    "    # define the colormap\n",
    "    cmap = plt.cm.viridis \n",
    "\n",
    "    # extract all colors from the .jet map\n",
    "    cmaplist = [cmap(i) for i in range(cmap.N)]\n",
    "\n",
    "    # force the first color entry to be grey\n",
    "    cmaplist[0] = \"whitesmoke\"\n",
    "\n",
    "    # create the new map\n",
    "    cmap = mpl.colors.LinearSegmentedColormap.from_list('Custom cmap', cmaplist, cmap.N)\n",
    "\n",
    "    # define the bins and normalize\n",
    "    bounds = np.unique(arr)\n",
    "    norm = mpl.colors.BoundaryNorm(bounds, cmap.N)\n",
    "\n",
    "    plt.imshow(arr, cmap=cmap)\n",
    "\n",
    "    ax.set_aspect('equal')\n",
    "\n",
    "    cax = fig.add_axes([0.12, 0.1, 0.78, 0.8])\n",
    "\n",
    "    cax.get_xaxis().set_visible(False)\n",
    "    cax.get_yaxis().set_visible(False)\n",
    "    cax.patch.set_alpha(0)\n",
    "    cax.set_frame_on(False)\n",
    "\n",
    "    ax2 = fig.add_axes([0.95, 0.1, 0.03, 0.8])\n",
    "    cb = mpl.colorbar.ColorbarBase(ax2, cmap=cmap, norm=norm,\n",
    "        spacing='proportional', ticks=bounds, boundaries=bounds, format='%1i')\n",
    "\n",
    "    plt.show()\n",
    "    \n",
    "\n",
    "def load_pickle(file):\n",
    "    \"\"\"Load pickled file into object.\"\"\"\n",
    "    \n",
    "    return pickle.load(open(file, \"rb\"))\n",
    "\n",
    "\n",
    "\n",
    "def buffer_flat_array(target_index, arr, nrows, ncols, ncells, set_value):\n",
    "    \"\"\"Assign a value to the neighboring elements of a 1D array as if they\n",
    "    were in 2D space. The number of neighbors are based on the `ncells` argument\n",
    "    which is used to define the window around the target cell to be altered as\n",
    "    if they were in 2D space.\n",
    "\n",
    "    :param target_index:                Index of the target element in the 1D array\n",
    "    :type target_index:                 int\n",
    "\n",
    "    :param arr:                         A 1D array that has been flattened from a corresponding 2D array\n",
    "    :type arr:                          ndarray\n",
    "\n",
    "    :param nrows:                       The number of rows in the parent 2D array\n",
    "    :type nrows:                        int\n",
    "\n",
    "    :param ncols:                       The number of columns in the parent 2D array\n",
    "    :type ncols:                        int\n",
    "\n",
    "    :param ncells:                      The number of cells for the buffer extending as a radius\n",
    "    :type ncells:                       int\n",
    "\n",
    "    :param set_value:                   The value to set for the selected buffer\n",
    "    :type set_value:                    int; float\n",
    "\n",
    "    :return:                            [0] Modified 1D array\n",
    "                                        [1] list of buffered indices\n",
    "\n",
    "    \"\"\"\n",
    "    # list to hold buffer indices for the target grid cell\n",
    "    buffer_indices = []\n",
    "\n",
    "    # calculate the number of elements in the 2D grid space\n",
    "    ngrids = nrows * ncols\n",
    "\n",
    "    # ensure that the target index is in the grid space\n",
    "    if 0 <= target_index < ngrids:\n",
    "\n",
    "        # target cell index bounds for the row\n",
    "        min_idx = target_index - ncells\n",
    "        max_idx = target_index + ncells + 1\n",
    "\n",
    "        # create target row limits\n",
    "        end_row_idx = target_index + ncols - np.mod(target_index, ncols) - 1\n",
    "        start_row_idx = end_row_idx - (ncols - 1)\n",
    "\n",
    "        # do not let the index bleed past the row\n",
    "        if max_idx > end_row_idx:\n",
    "            max_idx = end_row_idx + 1\n",
    "\n",
    "        # do not let the index go negative\n",
    "        if min_idx < start_row_idx:\n",
    "            min_idx = start_row_idx\n",
    "\n",
    "        # initialize above\n",
    "        min_above = min_idx - ncols\n",
    "        max_above = max_idx - ncols\n",
    "\n",
    "        # initialize below\n",
    "        min_below = min_idx + ncols\n",
    "        max_below = max_idx + ncols\n",
    "\n",
    "        # target row assignment\n",
    "        arr[min_idx: max_idx] = set_value\n",
    "\n",
    "        # add indices to buffer list\n",
    "        buffer_indices.extend(list(range(min_idx, max_idx)))\n",
    "\n",
    "        for _ in range(ncells):\n",
    "\n",
    "            # above\n",
    "            if min_above >= 0 and max_above >= 0 and start_row_idx < ngrids:\n",
    "                arr[min_above: max_above] = set_value\n",
    "\n",
    "                # add indices to buffer list\n",
    "                buffer_indices.extend(list(range(min_above, max_above)))\n",
    "\n",
    "            # advance above to the next row\n",
    "            min_above -= ncols\n",
    "            max_above -= ncols\n",
    "\n",
    "            # below\n",
    "            if min_below <= ngrids and max_below <= ngrids:\n",
    "                arr[min_below: max_below] = set_value\n",
    "\n",
    "                # add indices to buffer list\n",
    "                buffer_indices.extend(list(range(min_below, max_below)))\n",
    "\n",
    "            # advance below to the next row\n",
    "            min_below += ncols\n",
    "            max_below += ncols\n",
    "\n",
    "    else:\n",
    "        raise IndexError(f\"Index: '{target_index}' is not in the range of the grid space from 0 to {ngrids - 1}.\")\n",
    "\n",
    "    return arr, buffer_indices\n",
    "\n"
   ]
  },
  {
   "cell_type": "markdown",
   "id": "888f928f-e1fe-4617-a298-4d4a18aaecb4",
   "metadata": {},
   "source": [
    "## Set up precalculated run"
   ]
  },
  {
   "cell_type": "code",
   "execution_count": 72,
   "id": "5ca409f7-ca6c-42f1-a05e-2a8d3cbfef02",
   "metadata": {},
   "outputs": [],
   "source": [
    "data_dir = \"/Users/d3y010/projects/cerf/code/algorithms/data\"\n",
    "\n",
    "target_region_name = \"virginia\"\n",
    "settings_dict = load_pickle(os.path.join(data_dir, \"settings_dict.pkl\"))\n",
    "technology_dict = load_pickle(os.path.join(data_dir, \"technology_dict.pkl\"))\n",
    "technology_order = load_pickle(os.path.join(data_dir, \"technology_order.pkl\"))\n",
    "expansion_dict = load_pickle(os.path.join(data_dir, \"expansion_dict.pkl\"))\n",
    "lmp_dict = load_pickle(os.path.join(data_dir, \"lmp_flat_dict.pkl\"))\n",
    "nov_dict = load_pickle(os.path.join(data_dir, \"nov_flat_dict.pkl\"))\n",
    "ic_dict = load_pickle(os.path.join(data_dir, \"ic_flat_dict.pkl\"))\n",
    "nlc_mask = load_pickle(os.path.join(data_dir, \"suitable_nlc_region.pkl\"))\n",
    "zones_arr = np.load(os.path.join(data_dir, \"zones_flat_arr.npy\"))\n",
    "xcoords = np.load(os.path.join(data_dir, \"xcoords_region.npy\"))\n",
    "ycoords = np.load(os.path.join(data_dir, \"ycoords_region.npy\"))\n",
    "indices_flat = np.load(os.path.join(data_dir, \"indices_flat_region.npy\"))\n",
    "randomize = True\n",
    "seed_value = 42\n",
    "verbose = True\n",
    "\n",
    "# reassign to class variable names for consistency\n",
    "lmp_flat_dict = lmp_dict\n",
    "nov_flat_dict = nov_dict\n",
    "ic_flat_dict = ic_dict\n",
    "zones_flat_arr = zones_arr\n"
   ]
  },
  {
   "cell_type": "markdown",
   "id": "9fba9afa-4b4f-4ba4-b4cc-09a4a3a3888e",
   "metadata": {},
   "source": [
    "## Describe the data"
   ]
  },
  {
   "cell_type": "markdown",
   "id": "dbd6d3a0-fe57-4369-aa9e-7f233e4f68ef",
   "metadata": {},
   "source": [
    "`settings_dict`:  a dictionary of project level settings"
   ]
  },
  {
   "cell_type": "code",
   "execution_count": 4,
   "id": "34f590a5-9b04-490d-a218-ed600e295c64",
   "metadata": {},
   "outputs": [
    {
     "data": {
      "text/plain": [
       "{'run_year': 2030,\n",
       " 'output_directory': None,\n",
       " 'randomize': True,\n",
       " 'seed_value': 0,\n",
       " 'region_raster_file': '/Users/d3y010/repos/github/cerf/cerf/data/cerf_conus_states_albers_1km.tif',\n",
       " 'region_abbrev_to_name_file': '/Users/d3y010/repos/github/cerf/cerf/data/region-abbrev_to_region-name.yml',\n",
       " 'region_name_to_id_file': '/Users/d3y010/repos/github/cerf/cerf/data/region-name_to_region-id.yml'}"
      ]
     },
     "execution_count": 4,
     "metadata": {},
     "output_type": "execute_result"
    }
   ],
   "source": [
    "settings_dict"
   ]
  },
  {
   "cell_type": "markdown",
   "id": "9b9ad562-ae32-4628-923b-bade466885be",
   "metadata": {},
   "source": [
    "technology_dict"
   ]
  },
  {
   "cell_type": "markdown",
   "id": "4dafefb3-35c3-4b74-9c46-d8ca278c9f1e",
   "metadata": {},
   "source": [
    "`technology_dict`: a dictionary of technology specific settings where the key is the technology id as an integer as provide by the user in the configuration file"
   ]
  },
  {
   "cell_type": "code",
   "execution_count": 5,
   "id": "39e51dd3-e22b-44cb-80dd-4b3e944217da",
   "metadata": {},
   "outputs": [
    {
     "data": {
      "text/plain": [
       "{'capacity_factor': 0.5714999999999999,\n",
       " 'variable_om': 9.65138799225307,\n",
       " 'heat_rate': 11449.7,\n",
       " 'fuel_price': 0.0,\n",
       " 'fuel_esc_rate': 0.0,\n",
       " 'fuel_co2_content': 0.3036,\n",
       " 'tech_name': 'biomass_conv_wo_ccs',\n",
       " 'lifetime': 60.0,\n",
       " 'carbon_capture_rate': 0.0,\n",
       " 'unit_size': 80,\n",
       " 'variable_cost_esc_rate': -0.00398993418629034,\n",
       " 'discount_rate': 0.05,\n",
       " 'carbon_esc_rate': 0.0,\n",
       " 'carbon_tax': 0.0,\n",
       " 'buffer_in_km': 5,\n",
       " 'require_pipelines': False,\n",
       " 'suitability_raster_file': None}"
      ]
     },
     "execution_count": 5,
     "metadata": {},
     "output_type": "execute_result"
    }
   ],
   "source": [
    "# view one technology as an example\n",
    "technology_dict[0]"
   ]
  },
  {
   "cell_type": "markdown",
   "id": "d9bb98bc-4251-4937-8b83-c1dede2b3c7d",
   "metadata": {},
   "source": [
    "`technology_order`:  a list containing the order of technology ids to process; generated from the order in which the technologies are listed in the configuration file"
   ]
  },
  {
   "cell_type": "code",
   "execution_count": 6,
   "id": "317cc640-adfe-4ba0-897f-dbc436e50b04",
   "metadata": {},
   "outputs": [
    {
     "data": {
      "text/plain": [
       "[0, 2, 4, 8, 9, 13, 14, 15, 16, 17, 18]"
      ]
     },
     "execution_count": 6,
     "metadata": {},
     "output_type": "execute_result"
    }
   ],
   "source": [
    "technology_order"
   ]
  },
  {
   "cell_type": "markdown",
   "id": "b500d90e-2bfe-4055-b207-deed91e04ebf",
   "metadata": {},
   "source": [
    "`expansion_dict`:  a dictionary containing the expected number of power plants to be sited for each technology where the key is the technology id"
   ]
  },
  {
   "cell_type": "code",
   "execution_count": 7,
   "id": "31fc9070-b855-4fef-9731-d3a27882ab74",
   "metadata": {},
   "outputs": [
    {
     "data": {
      "text/plain": [
       "{0: {'tech_name': 'biomass_conv_wo_ccs', 'n_sites': 0},\n",
       " 2: {'tech_name': 'biomass_igcc_wo_ccs', 'n_sites': 0},\n",
       " 4: {'tech_name': 'coal_conv_pul_wo_ccs', 'n_sites': 4},\n",
       " 9: {'tech_name': 'gas_cc_w_ccs', 'n_sites': 22},\n",
       " 8: {'tech_name': 'gas_cc_wo_ccs', 'n_sites': 8},\n",
       " 13: {'tech_name': 'nuclear_gen_ii', 'n_sites': 2},\n",
       " 14: {'tech_name': 'nuclear_gen_iii', 'n_sites': 0},\n",
       " 15: {'tech_name': 'oil_ct_wo_ccs', 'n_sites': 2},\n",
       " 16: {'tech_name': 'solar_csp', 'n_sites': 0},\n",
       " 17: {'tech_name': 'solar_pv_non_dist', 'n_sites': 11},\n",
       " 18: {'tech_name': 'wind_onshore', 'n_sites': 0}}"
      ]
     },
     "execution_count": 7,
     "metadata": {},
     "output_type": "execute_result"
    }
   ],
   "source": [
    "expansion_dict"
   ]
  },
  {
   "cell_type": "markdown",
   "id": "6ce37f4a-2424-4477-b46f-78d9e486c415",
   "metadata": {},
   "source": [
    "`lmp_dict`: a dictionary of flattend (1D) numpy arrays containing the calculated LMP for each grid cell per technology where the technology id is the key"
   ]
  },
  {
   "cell_type": "code",
   "execution_count": 8,
   "id": "ed730091-4b76-4694-bda4-5a8ca7bdcc81",
   "metadata": {},
   "outputs": [
    {
     "data": {
      "text/plain": [
       "{0: array([142.82080974, 142.82080974, 142.82080974, ...,  74.91032851,\n",
       "         74.91032851,  74.91032851]),\n",
       " 2: array([145.05844871, 145.05844871, 145.05844871, ...,  77.243453  ,\n",
       "         77.243453  ,  77.243453  ]),\n",
       " 4: array([160.5936343 , 160.5936343 , 160.5936343 , ...,  93.32705964,\n",
       "         93.32705964,  93.32705964]),\n",
       " 8: array([286.27493385, 286.27493385, 286.27493385, ..., 219.67758775,\n",
       "        219.67758775, 219.67758775]),\n",
       " 9: array([168.04431526, 168.04431526, 168.04431526, ..., 100.86960694,\n",
       "        100.86960694, 100.86960694]),\n",
       " 13: array([181.53521017, 181.53521017, 181.53521017, ..., 114.29530781,\n",
       "        114.29530781, 114.29530781]),\n",
       " 14: array([181.53521017, 181.53521017, 181.53521017, ..., 114.29530781,\n",
       "        114.29530781, 114.29530781]),\n",
       " 15: array([452.24301268, 452.24301268, 452.24301268, ..., 383.85869263,\n",
       "        383.85869263, 383.85869263]),\n",
       " 16: array([295.48121612, 295.48121612, 295.48121612, ..., 228.89096447,\n",
       "        228.89096447, 228.89096447]),\n",
       " 17: array([377.38832251, 377.38832251, 377.38832251, ..., 309.28287112,\n",
       "        309.28287112, 309.28287112]),\n",
       " 18: array([293.39397317, 293.39397317, 293.39397317, ..., 226.80694193,\n",
       "        226.80694193, 226.80694193])}"
      ]
     },
     "execution_count": 8,
     "metadata": {},
     "output_type": "execute_result"
    }
   ],
   "source": [
    "lmp_dict"
   ]
  },
  {
   "cell_type": "markdown",
   "id": "c6fd8051-2709-40ea-82cc-f0afebaee315",
   "metadata": {},
   "source": [
    "`nov_dict`: a dictionary of flattend (1D) numpy arrays containing the calculated NOV for each grid cell per technology where the technology id is the key"
   ]
  },
  {
   "cell_type": "code",
   "execution_count": 9,
   "id": "5f511eab-c552-4320-9faf-cd929cac586b",
   "metadata": {},
   "outputs": [
    {
     "data": {
      "text/plain": [
       "{0: array([53592245.07574421, 53592245.07574421, 53592245.07574421, ...,\n",
       "        26393608.38512888, 26393608.38512888, 26393608.38512888]),\n",
       " 2: array([2.75218731e+08, 2.75218731e+08, 2.75218731e+08, ...,\n",
       "        1.34545474e+08, 1.34545474e+08, 1.34545474e+08]),\n",
       " 4: array([6.12325753e+08, 6.12325753e+08, 6.12325753e+08, ...,\n",
       "        3.11892833e+08, 3.11892833e+08, 3.11892833e+08]),\n",
       " 8: array([1.49833125e+10, 1.49833125e+10, 1.49833125e+10, ...,\n",
       "        1.09528516e+10, 1.09528516e+10, 1.09528516e+10]),\n",
       " 9: array([1.23984743e+10, 1.23984743e+10, 1.23984743e+10, ...,\n",
       "        5.81482609e+09, 5.81482609e+09, 5.81482609e+09]),\n",
       " 13: array([3.77614322e+09, 3.77614322e+09, 3.77614322e+09, ...,\n",
       "        2.29525047e+09, 2.29525047e+09, 2.29525047e+09]),\n",
       " 14: array([3.77884194e+09, 3.77884194e+09, 3.77884194e+09, ...,\n",
       "        2.29794918e+09, 2.29794918e+09, 2.29794918e+09]),\n",
       " 15: array([1.72152986e+08, 1.72152986e+08, 1.72152986e+08, ...,\n",
       "        1.32564942e+08, 1.32564942e+08, 1.32564942e+08]),\n",
       " 16: array([1.15961012e+08, 1.15961012e+08, 1.15961012e+08, ...,\n",
       "        8.98278012e+07, 8.98278012e+07, 8.98278012e+07]),\n",
       " 17: array([53159221.01908259, 53159221.01908259, 53159221.01908259, ...,\n",
       "        43565832.65175734, 43565832.65175734, 43565832.65175734]),\n",
       " 18: array([2.95457143e+08, 2.95457143e+08, 2.95457143e+08, ...,\n",
       "        2.28401866e+08, 2.28401866e+08, 2.28401866e+08])}"
      ]
     },
     "execution_count": 9,
     "metadata": {},
     "output_type": "execute_result"
    }
   ],
   "source": [
    "nov_dict"
   ]
  },
  {
   "cell_type": "markdown",
   "id": "94b3b1ee-5fb7-4e9f-88f4-2454dbc7c878",
   "metadata": {},
   "source": [
    "`ic_dict`: a dictionary of flattend (1D) numpy arrays containing the calculated interconnection cost (IC) for each grid cell per technology where the technology id is the key"
   ]
  },
  {
   "cell_type": "code",
   "execution_count": 10,
   "id": "5d720990-e9f8-44ba-a1dc-e7a0c748a616",
   "metadata": {},
   "outputs": [
    {
     "data": {
      "text/plain": [
       "{0: array([151960.83166775, 151960.83166775, 129141.87302423, ...,\n",
       "        512828.70210021, 547902.55219896, 583066.8533133 ]),\n",
       " 2: array([151960.83166775, 151960.83166775, 129141.87302423, ...,\n",
       "        512828.70210021, 547902.55219896, 583066.8533133 ]),\n",
       " 4: array([151960.83166775, 151960.83166775, 129141.87302423, ...,\n",
       "        512828.70210021, 547902.55219896, 583066.8533133 ]),\n",
       " 8: array([ 396398.37762256,  427342.37506173,  436543.05769522, ...,\n",
       "        5389750.12504507, 5462295.54151573, 5535034.72427276]),\n",
       " 9: array([ 396398.37762256,  427342.37506173,  436543.05769522, ...,\n",
       "        5389750.12504507, 5462295.54151573, 5535034.72427276]),\n",
       " 13: array([151960.83166775, 151960.83166775, 129141.87302423, ...,\n",
       "        512828.70210021, 547902.55219896, 583066.8533133 ]),\n",
       " 14: array([151960.83166775, 151960.83166775, 129141.87302423, ...,\n",
       "        512828.70210021, 547902.55219896, 583066.8533133 ]),\n",
       " 15: array([161837.47492659, 161837.47492659, 137535.40572368, ...,\n",
       "        546159.83149686, 583513.29471261, 620963.08777736]),\n",
       " 16: array([187121.14119465, 187121.14119465, 159022.39011921, ...,\n",
       "        631485.69878965, 674674.84683879, 717975.37422874]),\n",
       " 17: array([187121.14119465, 187121.14119465, 159022.39011921, ...,\n",
       "        631485.69878965, 674674.84683879, 717975.37422874]),\n",
       " 18: array([187121.14119465, 187121.14119465, 159022.39011921, ...,\n",
       "        631485.69878965, 674674.84683879, 717975.37422874])}"
      ]
     },
     "execution_count": 10,
     "metadata": {},
     "output_type": "execute_result"
    }
   ],
   "source": [
    "ic_dict"
   ]
  },
  {
   "cell_type": "markdown",
   "id": "38af9e0e-333c-4000-bfba-c6a18fb15479",
   "metadata": {},
   "source": [
    "`nlc_mask`: a 3D masked array containing the NLC per grid cell per technology as masked by suitable area per technology for the target region.  \n",
    "\n",
    "NOTE:  the first array in the 3D array is an all zero mask which will always be the minimum value if there is nothing left to site.  This allows the algorithm to progress without failing.\n",
    "\n",
    "NOTE:  the first dimension in the array controls the technology but arrays are indexed; therefore, the index value is different than the technology id.  For example, `nlc_mask[0, :, :]` is the all 0 mask not indicative of any technology as the minimum; where `nlc_mask[1, :, :]` actually represents the technology id `0` in this case."
   ]
  },
  {
   "cell_type": "code",
   "execution_count": 4,
   "id": "fdf173b9-ea81-4bf6-a2b1-a43b24a0d58e",
   "metadata": {},
   "outputs": [
    {
     "data": {
      "text/plain": [
       "(12, 389, 689)"
      ]
     },
     "execution_count": 4,
     "metadata": {},
     "output_type": "execute_result"
    }
   ],
   "source": [
    "nlc_mask.shape"
   ]
  },
  {
   "cell_type": "code",
   "execution_count": 21,
   "id": "de6dd98b-aa7b-4046-a611-9fac3fbcec6a",
   "metadata": {},
   "outputs": [
    {
     "name": "stdout",
     "output_type": "stream",
     "text": [
      "index: 1, tech_id: 0, tech_name: biomass_conv_wo_ccs\n",
      "index: 2, tech_id: 2, tech_name: biomass_igcc_wo_ccs\n",
      "index: 3, tech_id: 4, tech_name: coal_conv_pul_wo_ccs\n",
      "index: 4, tech_id: 8, tech_name: gas_cc_wo_ccs\n",
      "index: 5, tech_id: 9, tech_name: gas_cc_w_ccs\n",
      "index: 6, tech_id: 13, tech_name: nuclear_gen_ii\n",
      "index: 7, tech_id: 14, tech_name: nuclear_gen_iii\n",
      "index: 8, tech_id: 15, tech_name: oil_ct_wo_ccs\n",
      "index: 9, tech_id: 16, tech_name: solar_csp\n",
      "index: 10, tech_id: 17, tech_name: solar_pv_non_dist\n",
      "index: 11, tech_id: 18, tech_name: wind_onshore\n"
     ]
    }
   ],
   "source": [
    "# mappings from index to tech_id, tech_name; save the for latter reference\n",
    "ref_dict = {}\n",
    "for i in range(1, nlc_mask.shape[0]):\n",
    "    tech_id = technology_order[i-1]\n",
    "    ref_dict[i] = [tech_id, technology_dict[tech_id]['tech_name']]\n",
    "    print(f\"index: {i}, tech_id: {tech_id}, tech_name: {technology_dict[tech_id]['tech_name']}\")\n"
   ]
  },
  {
   "cell_type": "code",
   "execution_count": 22,
   "id": "1d557bea-05e3-43c2-b901-48803b21e792",
   "metadata": {},
   "outputs": [
    {
     "data": {
      "image/png": "[encoded data removed]",
      "text/plain": [
       "<Figure size 576x360 with 2 Axes>"
      ]
     },
     "metadata": {
      "needs_background": "light"
     },
     "output_type": "display_data"
    }
   ],
   "source": [
    "# plot conventional coal NLC with suitability for the target region\n",
    "plot_array(nlc_mask[3, :, :])\n"
   ]
  },
  {
   "cell_type": "markdown",
   "id": "a2751a93-fac0-44cd-ac98-f270f4f4b2ce",
   "metadata": {},
   "source": [
    "`zones_arr`:  a 1D array of each LMP zone associated with each grid cell in the target region"
   ]
  },
  {
   "cell_type": "code",
   "execution_count": 14,
   "id": "fe35df72-0ede-4743-b450-b37925716c0e",
   "metadata": {},
   "outputs": [
    {
     "data": {
      "text/plain": [
       "array([ 1,  1,  1, ..., 37, 37, 37], dtype=uint8)"
      ]
     },
     "execution_count": 14,
     "metadata": {},
     "output_type": "execute_result"
    }
   ],
   "source": [
    "zones_arr"
   ]
  },
  {
   "cell_type": "markdown",
   "id": "a503ce76-7efb-4ccb-aeda-a312d204ab7b",
   "metadata": {},
   "source": [
    "`xcoords`: a 1D array of X coordinates for the target grid"
   ]
  },
  {
   "cell_type": "code",
   "execution_count": 15,
   "id": "50ed75cc-8e9a-485f-83c0-f755126917fd",
   "metadata": {},
   "outputs": [
    {
     "data": {
      "text/plain": [
       "array([1090947.1645, 1091947.1645, 1092947.1645, ..., 1776947.1645,\n",
       "       1777947.1645, 1778947.1645])"
      ]
     },
     "execution_count": 15,
     "metadata": {},
     "output_type": "execute_result"
    }
   ],
   "source": [
    "xcoords"
   ]
  },
  {
   "cell_type": "markdown",
   "id": "6960eb54-9cdd-4a76-b1a5-af31a0145414",
   "metadata": {},
   "source": [
    "`ycoords`: a 1D array of Y coordinates for the target grid"
   ]
  },
  {
   "cell_type": "code",
   "execution_count": 16,
   "id": "33f909d8-42e6-4521-a7a6-d8994b109bf3",
   "metadata": {},
   "outputs": [
    {
     "data": {
      "text/plain": [
       "array([358434.7995, 358434.7995, 358434.7995, ..., -29565.2005,\n",
       "       -29565.2005, -29565.2005])"
      ]
     },
     "execution_count": 16,
     "metadata": {},
     "output_type": "execute_result"
    }
   ],
   "source": [
    "ycoords"
   ]
  },
  {
   "cell_type": "markdown",
   "id": "9fcc3aa6-f6c4-4447-b54d-1db7d09953ea",
   "metadata": {},
   "source": [
    "`indices_flat`: a 1D array of grid indices for the target region as they occur in the full CONUS extent"
   ]
  },
  {
   "cell_type": "code",
   "execution_count": 17,
   "id": "fe14084f-9a29-44ce-afa0-8ba71ac66ca6",
   "metadata": {},
   "outputs": [
    {
     "data": {
      "text/plain": [
       "array([5874439, 5874440, 5874441, ..., 7696009, 7696010, 7696011])"
      ]
     },
     "execution_count": 17,
     "metadata": {},
     "output_type": "execute_result"
    }
   ],
   "source": [
    "indices_flat"
   ]
  },
  {
   "cell_type": "markdown",
   "id": "a879f398-4740-4b3f-aac3-65775c408f93",
   "metadata": {},
   "source": [
    "## Start code"
   ]
  },
  {
   "cell_type": "markdown",
   "id": "455ae260-5204-464d-8b6c-bd895608e816",
   "metadata": {},
   "source": [
    "### Stage data for processing"
   ]
  },
  {
   "cell_type": "code",
   "execution_count": 23,
   "id": "7b8483ea-ca61-4aa6-9acf-98aba068091a",
   "metadata": {},
   "outputs": [
    {
     "data": {
      "text/plain": [
       "(12, 389, 689)"
      ]
     },
     "execution_count": 23,
     "metadata": {},
     "output_type": "execute_result"
    }
   ],
   "source": [
    "# net locational costs with suitability mask for the target region\n",
    "nlc_mask_shape = nlc_mask.shape\n",
    "\n",
    "nlc_mask_shape\n"
   ]
  },
  {
   "cell_type": "code",
   "execution_count": 24,
   "id": "d07c7eea-20fd-4a04-9b6a-743df46437d5",
   "metadata": {},
   "outputs": [],
   "source": [
    "# set random seed so that we can reproduce any random process\n",
    "np.random.seed(seed_value)\n"
   ]
  },
  {
   "cell_type": "code",
   "execution_count": 25,
   "id": "4877b9d7-46e1-4a61-95c4-5ec770336e72",
   "metadata": {},
   "outputs": [],
   "source": [
    "# number of technologies\n",
    "n_techs = len(technology_order)\n",
    "\n",
    "# dictionary to hold sited information\n",
    "sited_dict = {'region_name': [],\n",
    "                'tech_id': [],\n",
    "                'tech_name': [],\n",
    "                'unit_size_mw': [],\n",
    "                'xcoord': [],\n",
    "                'ycoord': [],\n",
    "                'index': [],\n",
    "                'buffer_in_km': [],\n",
    "                'sited_year': [],\n",
    "                'retirement_year': [],\n",
    "                'lmp_zone': [],\n",
    "                'locational_marginal_pricing': [],\n",
    "                'net_operational_value': [],\n",
    "                'interconnection_cost': [],\n",
    "                'net_locational_cost': []}\n"
   ]
  },
  {
   "cell_type": "code",
   "execution_count": 26,
   "id": "e9e2c583-be25-4062-a0a9-fd45ce32eb83",
   "metadata": {},
   "outputs": [
    {
     "data": {
      "text/plain": [
       "[0, 2, 4, 8, 9, 13, 14, 15, 16, 17, 18]"
      ]
     },
     "execution_count": 26,
     "metadata": {},
     "output_type": "execute_result"
    }
   ],
   "source": [
    "technology_order"
   ]
  },
  {
   "cell_type": "code",
   "execution_count": 27,
   "id": "dbb3b8d8-fecf-405e-a935-3a1e0b3dd0f1",
   "metadata": {},
   "outputs": [
    {
     "name": "stdout",
     "output_type": "stream",
     "text": [
      "index: 2, tech_id: 4, coal_conv_pul_wo_ccs, n_sites: 4\n",
      "index: 3, tech_id: 9, gas_cc_w_ccs, n_sites: 22\n",
      "index: 4, tech_id: 8, gas_cc_wo_ccs, n_sites: 8\n",
      "index: 5, tech_id: 13, nuclear_gen_ii, n_sites: 2\n",
      "index: 7, tech_id: 15, oil_ct_wo_ccs, n_sites: 2\n",
      "index: 9, tech_id: 17, solar_pv_non_dist, n_sites: 11\n"
     ]
    }
   ],
   "source": [
    "# show the expansion plan and tech specifics\n",
    "for index, i in enumerate(expansion_dict.keys(), 0):\n",
    "    if expansion_dict[i]['n_sites'] > 0:\n",
    "        print(f\"index: {index}, tech_id: {i}, {expansion_dict[i]['tech_name']}, n_sites: {expansion_dict[i]['n_sites']}\")\n"
   ]
  },
  {
   "cell_type": "code",
   "execution_count": 28,
   "id": "e663ab52-fc12-431e-af99-d214d404ac44",
   "metadata": {},
   "outputs": [],
   "source": [
    "# mask any technologies having 0 expected sites in the expansion plan to exclude them from competition\n",
    "for index, i in enumerate(technology_order, 1):\n",
    "        \n",
    "    if expansion_dict[i][\"n_sites\"] == 0:\n",
    "        nlc_mask[index, :, :] = np.ma.masked_array(nlc_mask[index, :, :], np.ones_like(nlc_mask[index, :, :]))\n"
   ]
  },
  {
   "cell_type": "code",
   "execution_count": 32,
   "id": "ce90f27a-3982-4bbd-9f74-a58407909822",
   "metadata": {},
   "outputs": [
    {
     "data": {
      "image/png": "[encoded data removed]",
      "text/plain": [
       "<Figure size 576x360 with 3 Axes>"
      ]
     },
     "metadata": {
      "needs_background": "light"
     },
     "output_type": "display_data"
    }
   ],
   "source": [
    "# show cheapest option, add 1 to the index to represent the technology number\n",
    "cheapest_arr = np.argmin(nlc_mask, axis=0)\n",
    "\n",
    "plot_array_wbar(cheapest_arr, \"Technology winners for cheapest NLC\")\n"
   ]
  },
  {
   "cell_type": "markdown",
   "id": "ba906704-4402-4e2a-b016-38892dbd07d5",
   "metadata": {},
   "source": [
    "For the cheapest NLC grid cells above, view the technologies that won and their accompanying expansion:"
   ]
  },
  {
   "cell_type": "code",
   "execution_count": 33,
   "id": "be1b77e4-329b-4e9c-b730-3b9801053003",
   "metadata": {},
   "outputs": [
    {
     "name": "stdout",
     "output_type": "stream",
     "text": [
      "index: 3, tech_name: coal_conv_pul_wo_ccs, n_sites: 4\n",
      "index: 4, tech_name: gas_cc_wo_ccs, n_sites: 8\n",
      "index: 6, tech_name: nuclear_gen_ii, n_sites: 2\n",
      "index: 8, tech_name: oil_ct_wo_ccs, n_sites: 2\n"
     ]
    }
   ],
   "source": [
    "for i in np.unique(cheapest_arr):\n",
    "    if i > 0:\n",
    "        print(f\"index: {i}, tech_name: {ref_dict[i][1]}, n_sites: {expansion_dict[ref_dict[i][0]]['n_sites']}\")\n"
   ]
  },
  {
   "cell_type": "markdown",
   "id": "b8373aaa-6965-4bd1-a1ee-3bfbf7eb9cd2",
   "metadata": {},
   "source": [
    "NOTE:  There were technologies that require sites in the expansion plan but were not reflected in the NLC winners above.  These will be sited in a subsequent iteration."
   ]
  },
  {
   "cell_type": "code",
   "execution_count": 34,
   "id": "3eeff7bc-da85-4f03-8d84-30e0bcc15ce9",
   "metadata": {},
   "outputs": [],
   "source": [
    "# flatten cheapest array to be able to use random\n",
    "cheapest_arr_1d = cheapest_arr.flatten()\n",
    "\n",
    "# prep array to hold outputs where 0 is the null technology\n",
    "sited_arr_1d = np.zeros_like(cheapest_arr_1d)\n"
   ]
  },
  {
   "cell_type": "code",
   "execution_count": 35,
   "id": "e6337d44-c8ac-4c60-bab7-6f672f6d2aca",
   "metadata": {},
   "outputs": [
    {
     "name": "stdout",
     "output_type": "stream",
     "text": [
      "Number of available grid cells to site in:  103324\n"
     ]
    }
   ],
   "source": [
    "# set initial value to for available grid cells to site in\n",
    "avail_grids = np.where(cheapest_arr_1d > 0)[0].shape[0]\n",
    "\n",
    "print(f\"Number of available grid cells to site in:  {avail_grids}\")\n"
   ]
  },
  {
   "cell_type": "code",
   "execution_count": 36,
   "id": "f44679fe-9934-45be-9a80-777242ac1650",
   "metadata": {},
   "outputs": [
    {
     "data": {
      "text/plain": [
       "{0: masked_array(data=[--, --, --, ..., --, --, --],\n",
       "              mask=[ True,  True,  True, ...,  True,  True,  True],\n",
       "        fill_value=1e+20,\n",
       "             dtype=float64),\n",
       " 2: masked_array(data=[--, --, --, ..., --, --, --],\n",
       "              mask=[ True,  True,  True, ...,  True,  True,  True],\n",
       "        fill_value=1e+20,\n",
       "             dtype=float64),\n",
       " 4: masked_array(data=[--, --, --, ..., --, --, --],\n",
       "              mask=[ True,  True,  True, ...,  True,  True,  True],\n",
       "        fill_value=1e+20),\n",
       " 8: masked_array(data=[--, --, --, ..., --, --, --],\n",
       "              mask=[ True,  True,  True, ...,  True,  True,  True],\n",
       "        fill_value=1e+20),\n",
       " 9: masked_array(data=[--, --, --, ..., --, --, --],\n",
       "              mask=[ True,  True,  True, ...,  True,  True,  True],\n",
       "        fill_value=1e+20),\n",
       " 13: masked_array(data=[--, --, --, ..., --, --, --],\n",
       "              mask=[ True,  True,  True, ...,  True,  True,  True],\n",
       "        fill_value=1e+20),\n",
       " 14: masked_array(data=[--, --, --, ..., --, --, --],\n",
       "              mask=[ True,  True,  True, ...,  True,  True,  True],\n",
       "        fill_value=1e+20,\n",
       "             dtype=float64),\n",
       " 15: masked_array(data=[--, --, --, ..., --, --, --],\n",
       "              mask=[ True,  True,  True, ...,  True,  True,  True],\n",
       "        fill_value=1e+20),\n",
       " 16: masked_array(data=[--, --, --, ..., --, --, --],\n",
       "              mask=[ True,  True,  True, ...,  True,  True,  True],\n",
       "        fill_value=1e+20,\n",
       "             dtype=float64),\n",
       " 17: masked_array(data=[--, --, --, ..., --, --, --],\n",
       "              mask=[ True,  True,  True, ...,  True,  True,  True],\n",
       "        fill_value=1e+20),\n",
       " 18: masked_array(data=[--, --, --, ..., --, --, --],\n",
       "              mask=[ True,  True,  True, ...,  True,  True,  True],\n",
       "        fill_value=1e+20,\n",
       "             dtype=float64)}"
      ]
     },
     "execution_count": 36,
     "metadata": {},
     "output_type": "execute_result"
    }
   ],
   "source": [
    "# create dictionary of {tech_id: flat_nlc_array, ...} ordered by the technology order\n",
    "nlc_flat_dict = {i: nlc_mask[ix+1, :, :].flatten() for ix, i in enumerate(technology_order)}\n",
    "\n",
    "nlc_flat_dict\n"
   ]
  },
  {
   "cell_type": "code",
   "execution_count": 37,
   "id": "5498aa19-068c-4250-b7c7-87f5c5761c65",
   "metadata": {},
   "outputs": [
    {
     "data": {
      "text/plain": [
       "[0, 2, 4, 8, 9, 13, 14, 15, 16, 17, 18]"
      ]
     },
     "execution_count": 37,
     "metadata": {},
     "output_type": "execute_result"
    }
   ],
   "source": [
    "technology_order"
   ]
  },
  {
   "cell_type": "markdown",
   "id": "27cd1cd1-cd54-4edf-881c-144461c1a562",
   "metadata": {},
   "source": [
    "## Competition algorithm"
   ]
  },
  {
   "cell_type": "code",
   "execution_count": 38,
   "id": "881f1ed0-974e-48e8-8cd1-d5618b2bdce9",
   "metadata": {},
   "outputs": [],
   "source": [
    "keep_siting = True"
   ]
  },
  {
   "cell_type": "markdown",
   "id": "4c1b3d4e-b786-46a2-b668-ebd978ec7863",
   "metadata": {},
   "source": [
    "-- **START while loop 1**\n",
    "\n",
    "This while loop processes each technology in the technology order loop over and over until the competition satisfies the expansion plan or until there are no more suitable grid cells left to site in.\n",
    "\n",
    "```python\n",
    "while keep_siting:\n",
    "```"
   ]
  },
  {
   "cell_type": "markdown",
   "id": "d9f300c5-9a25-4c7e-bf16-eb8b950f9266",
   "metadata": {},
   "source": [
    "-- **START for loop 1**\n",
    "\n",
    "```python\n",
    "    for index, tech_id in enumerate(technology_order):\n",
    "```"
   ]
  },
  {
   "cell_type": "code",
   "execution_count": 39,
   "id": "6906f3b5-cf01-46f0-a6c1-81f09b52481c",
   "metadata": {},
   "outputs": [
    {
     "data": {
      "text/plain": [
       "8"
      ]
     },
     "execution_count": 39,
     "metadata": {},
     "output_type": "execute_result"
    }
   ],
   "source": [
    "index = 3\n",
    "tech_id = technology_order[index]\n",
    "\n",
    "tech_id\n"
   ]
  },
  {
   "cell_type": "code",
   "execution_count": 40,
   "id": "e41193f2-d744-41ba-bbe5-5e28cd9517e6",
   "metadata": {},
   "outputs": [],
   "source": [
    "# assign an index as it appears in the n-dim array to the order in which it is being processed\n",
    "#  index of 0 is the default array and does not represent a technology\n",
    "tech_index = index + 1\n"
   ]
  },
  {
   "cell_type": "code",
   "execution_count": 41,
   "id": "334e10fe-e5d9-4730-bf48-dc5d695f59e2",
   "metadata": {},
   "outputs": [
    {
     "data": {
      "text/plain": [
       "array([  1097,   1786,   1787, ..., 266650, 266654, 267335])"
      ]
     },
     "execution_count": 41,
     "metadata": {},
     "output_type": "execute_result"
    }
   ],
   "source": [
    "# get the indices of the target tech ids where the target tech is the cheapest option\n",
    "tech = np.where(cheapest_arr_1d == tech_index)[0]\n",
    "\n",
    "tech\n"
   ]
  },
  {
   "cell_type": "code",
   "execution_count": 42,
   "id": "f16410db-9234-43f9-843c-5005752eae47",
   "metadata": {},
   "outputs": [
    {
     "data": {
      "text/plain": [
       "8"
      ]
     },
     "execution_count": 42,
     "metadata": {},
     "output_type": "execute_result"
    }
   ],
   "source": [
    "# the number of sites for the target tech\n",
    "required_sites = expansion_dict[tech_id]['n_sites']\n",
    "\n",
    "required_sites\n"
   ]
  },
  {
   "cell_type": "code",
   "execution_count": 43,
   "id": "c1679648-40d9-4f30-b137-aa667f3a83c6",
   "metadata": {},
   "outputs": [
    {
     "data": {
      "text/plain": [
       "2075"
      ]
     },
     "execution_count": 43,
     "metadata": {},
     "output_type": "execute_result"
    }
   ],
   "source": [
    "# calculate the year of retirement\n",
    "retirement_year = settings_dict['run_year'] + int(technology_dict[tech_id]['lifetime'])\n",
    "\n",
    "retirement_year\n"
   ]
  },
  {
   "cell_type": "markdown",
   "id": "ea7192eb-ce3d-40d8-b6d1-992aa433b81b",
   "metadata": {},
   "source": [
    "-- **START Condition 1**\n",
    "\n",
    "If there are more power plants to site and there are grids available to site them\n",
    "\n",
    "```python\n",
    "if self.avail_grids > 0 and tech.shape[0] > 0 and required_sites > 0:\n",
    "```"
   ]
  },
  {
   "cell_type": "code",
   "execution_count": 44,
   "id": "ac2fcd60-842b-4332-b2af-289823f0163a",
   "metadata": {},
   "outputs": [
    {
     "data": {
      "text/plain": [
       "(True, True, True)"
      ]
     },
     "execution_count": 44,
     "metadata": {},
     "output_type": "execute_result"
    }
   ],
   "source": [
    "# if there are more power plants to site and there are grids available to site them...\n",
    "avail_grids > 0, tech.shape[0] > 0, required_sites > 0\n"
   ]
  },
  {
   "cell_type": "code",
   "execution_count": 45,
   "id": "a198ec26-72ce-463d-85d2-63a8b11f00da",
   "metadata": {},
   "outputs": [],
   "source": [
    "still_siting = True\n",
    "sited_list = []"
   ]
  },
  {
   "cell_type": "markdown",
   "id": "39aca5ef-4cbd-4297-8d38-5d13296859ce",
   "metadata": {},
   "source": [
    "-- **START Sub while loop**\n",
    "\n",
    "While we are still able to site power plants...\n",
    "\n",
    "```python\n",
    "while still_siting:\n",
    "```"
   ]
  },
  {
   "cell_type": "code",
   "execution_count": 46,
   "id": "4d2c55ae-0932-48fe-a387-30dfe0cbe116",
   "metadata": {},
   "outputs": [
    {
     "data": {
      "text/plain": [
       "masked_array(data=[-12228024735.435358, -12228022244.202732,\n",
       "                   -12228012498.188715, ..., -14254128487.298212,\n",
       "                   -14254141578.375334, -14254131245.133755],\n",
       "             mask=[False, False, False, ..., False, False, False],\n",
       "       fill_value=1e+20)"
      ]
     },
     "execution_count": 46,
     "metadata": {},
     "output_type": "execute_result"
    }
   ],
   "source": [
    "# get the NLC values associated with each winner\n",
    "tech_nlc = nlc_flat_dict[tech_id][tech]\n",
    "\n",
    "tech_nlc\n"
   ]
  },
  {
   "cell_type": "code",
   "execution_count": 47,
   "id": "64d30359-0890-41c1-a5ec-b42a7298bc6a",
   "metadata": {},
   "outputs": [
    {
     "data": {
      "text/plain": [
       "array([78532])"
      ]
     },
     "execution_count": 47,
     "metadata": {},
     "output_type": "execute_result"
    }
   ],
   "source": [
    "# get the least expensive NLC indices from the winners\n",
    "tech_nlc_cheap = tech[np.where(tech_nlc == np.nanmin(tech_nlc))]\n",
    "\n",
    "tech_nlc_cheap\n"
   ]
  },
  {
   "cell_type": "code",
   "execution_count": 48,
   "id": "652c48eb-41a7-4f03-98a5-b63fd41c7d91",
   "metadata": {},
   "outputs": [
    {
     "data": {
      "text/plain": [
       "78532"
      ]
     },
     "execution_count": 48,
     "metadata": {},
     "output_type": "execute_result"
    }
   ],
   "source": [
    "# select a random index that has a winning cell for the check where multiple low NLC may exists\n",
    "target_ix = np.random.choice(tech_nlc_cheap)\n",
    "\n",
    "target_ix\n"
   ]
  },
  {
   "cell_type": "code",
   "execution_count": 49,
   "id": "e5d9e775-554d-4291-841c-7b2fb1eac76a",
   "metadata": {},
   "outputs": [
    {
     "data": {
      "text/plain": [
       "{'region_name': ['virginia'],\n",
       " 'tech_id': [8],\n",
       " 'tech_name': ['gas_cc_wo_ccs'],\n",
       " 'unit_size_mw': [400],\n",
       " 'xcoord': [1765947.1645],\n",
       " 'ycoord': [245434.79949999996],\n",
       " 'index': [6405423],\n",
       " 'buffer_in_km': [5],\n",
       " 'sited_year': [2030],\n",
       " 'retirement_year': [2075],\n",
       " 'lmp_zone': [30],\n",
       " 'locational_marginal_pricing': [315.9335188238149],\n",
       " 'net_operational_value': [16778245375.421497],\n",
       " 'interconnection_cost': [1760183.7049540116],\n",
       " 'net_locational_cost': [-16776485191.716543]}"
      ]
     },
     "execution_count": 49,
     "metadata": {},
     "output_type": "execute_result"
    }
   ],
   "source": [
    "# add selected index to sited dictionary\n",
    "sited_dict['region_name'].append(target_region_name)\n",
    "sited_dict['tech_id'].append(tech_id)\n",
    "sited_dict['tech_name'].append(technology_dict[tech_id]['tech_name'])\n",
    "sited_dict['unit_size_mw'].append(technology_dict[tech_id]['unit_size'])\n",
    "sited_dict['xcoord'].append(xcoords[target_ix])\n",
    "sited_dict['ycoord'].append(ycoords[target_ix])\n",
    "sited_dict['index'].append(indices_flat[target_ix])\n",
    "sited_dict['buffer_in_km'].append(technology_dict[tech_id]['buffer_in_km'])\n",
    "sited_dict['sited_year'].append(settings_dict['run_year'])\n",
    "sited_dict['retirement_year'].append(retirement_year)\n",
    "sited_dict['lmp_zone'].append(zones_flat_arr[target_ix])\n",
    "sited_dict['locational_marginal_pricing'].append(lmp_flat_dict[tech_id][target_ix])\n",
    "sited_dict['net_operational_value'].append(nov_flat_dict[tech_id][target_ix])\n",
    "sited_dict['interconnection_cost'].append(ic_flat_dict[tech_id][target_ix])\n",
    "sited_dict['net_locational_cost'].append(nlc_flat_dict[tech_id][target_ix])\n",
    "\n",
    "sited_dict\n"
   ]
  },
  {
   "cell_type": "code",
   "execution_count": 50,
   "id": "597d4a20-8b9d-4b21-a813-7d0ca149ccd0",
   "metadata": {},
   "outputs": [
    {
     "data": {
      "text/plain": [
       "[78532]"
      ]
     },
     "execution_count": 50,
     "metadata": {},
     "output_type": "execute_result"
    }
   ],
   "source": [
    "# add selected index to list\n",
    "sited_list.append(target_ix)\n",
    "\n",
    "sited_list\n"
   ]
  },
  {
   "cell_type": "code",
   "execution_count": 51,
   "id": "3ba46460-6554-48ef-a460-e64760e84d3f",
   "metadata": {},
   "outputs": [],
   "source": [
    "# apply buffer\n",
    "result = buffer_flat_array(target_index=target_ix,\n",
    "                            arr=cheapest_arr_1d,\n",
    "                            nrows=cheapest_arr.shape[0],\n",
    "                            ncols=cheapest_arr.shape[1],\n",
    "                            ncells=technology_dict[tech_id]['buffer_in_km'],\n",
    "                            set_value=0)\n",
    "\n",
    "# unpack values\n",
    "cheapest_arr_1d, buffer_indices_list = result\n"
   ]
  },
  {
   "cell_type": "markdown",
   "id": "d3bfac58-8871-4956-83ac-ef51a34fa123",
   "metadata": {},
   "source": [
    "In this case, the buffer was 5km around the kernel which would exclude 11 * 11 or 121 grid cells when accounting for an unimpeded buffer range (away from borders)"
   ]
  },
  {
   "cell_type": "code",
   "execution_count": 52,
   "id": "2923fa4d-9df3-4a0d-af42-f3122458c015",
   "metadata": {},
   "outputs": [
    {
     "data": {
      "text/plain": [
       "121"
      ]
     },
     "execution_count": 52,
     "metadata": {},
     "output_type": "execute_result"
    }
   ],
   "source": [
    "len(buffer_indices_list)"
   ]
  },
  {
   "cell_type": "code",
   "execution_count": 53,
   "id": "18c3ed50-9821-4e67-ac3e-bcca51846b31",
   "metadata": {},
   "outputs": [
    {
     "data": {
      "text/plain": [
       "7"
      ]
     },
     "execution_count": 53,
     "metadata": {},
     "output_type": "execute_result"
    }
   ],
   "source": [
    "# update the number of sites left to site\n",
    "required_sites -= 1\n",
    "\n",
    "expansion_dict[tech_id].update(n_sites=required_sites)\n",
    "\n",
    "required_sites\n"
   ]
  },
  {
   "cell_type": "code",
   "execution_count": 54,
   "id": "39881c1f-6b29-4cb6-a4cf-a368fb7a70a4",
   "metadata": {},
   "outputs": [],
   "source": [
    "# get the tech indices where they were the cheapest option and remove any buffered grid cells from the array\n",
    "tech_indices_to_delete = [np.where(tech == i)[0][0] for i in buffer_indices_list if i in tech]\n",
    "\n",
    "# remove any buffered elements as an option to site\n",
    "tech = np.delete(tech, tech_indices_to_delete)\n"
   ]
  },
  {
   "cell_type": "code",
   "execution_count": 55,
   "id": "afa2b7b3-817a-460c-98bc-b5b40f4f7bbe",
   "metadata": {},
   "outputs": [
    {
     "data": {
      "text/plain": [
       "45"
      ]
     },
     "execution_count": 55,
     "metadata": {},
     "output_type": "execute_result"
    }
   ],
   "source": [
    "len(tech_indices_to_delete)"
   ]
  },
  {
   "cell_type": "markdown",
   "id": "3e90d243-a861-49cc-a721-94fe94696c6e",
   "metadata": {},
   "source": [
    "**-- START Subcondition 1**\n",
    "\n",
    "Exit siting for the target technology if all sites have been sited or if there are no more winning cells\n",
    "\n",
    "```python\n",
    "if required_sites == 0 or tech.shape[0] == 0:\n",
    "    still_siting = False\n",
    "```\n"
   ]
  },
  {
   "cell_type": "code",
   "execution_count": 56,
   "id": "7c89969d-ca16-4711-a04f-4f1e235dfc8c",
   "metadata": {},
   "outputs": [
    {
     "data": {
      "text/plain": [
       "False"
      ]
     },
     "execution_count": 56,
     "metadata": {},
     "output_type": "execute_result"
    }
   ],
   "source": [
    "required_sites == 0 or tech.shape[0] == 0"
   ]
  },
  {
   "cell_type": "code",
   "execution_count": null,
   "id": "ebc01f5f-bad7-429d-a2b9-89214ca1a29c",
   "metadata": {},
   "outputs": [],
   "source": [
    "still_siting = False"
   ]
  },
  {
   "cell_type": "markdown",
   "id": "694544eb-1885-4f3d-b725-5c8e08b81512",
   "metadata": {},
   "source": [
    "-- **END Subcondition 1**"
   ]
  },
  {
   "cell_type": "markdown",
   "id": "27403cf5-d778-4666-9b3f-37308762cc97",
   "metadata": {},
   "source": [
    "-- **END Sub while loop**"
   ]
  },
  {
   "cell_type": "code",
   "execution_count": 57,
   "id": "9725943e-8d99-41d6-894a-b26d7f963f97",
   "metadata": {
    "tags": []
   },
   "outputs": [
    {
     "data": {
      "text/plain": [
       "array([78532])"
      ]
     },
     "execution_count": 57,
     "metadata": {},
     "output_type": "execute_result"
    }
   ],
   "source": [
    "# array of the site indices\n",
    "rdx = np.array(sited_list)\n",
    "\n",
    "rdx\n"
   ]
  },
  {
   "cell_type": "code",
   "execution_count": 58,
   "id": "e5e4a9f6-1602-4735-a238-18cde5a23270",
   "metadata": {},
   "outputs": [],
   "source": [
    "# add sited tech_ids to output array\n",
    "sited_arr_1d[rdx] = tech_id\n"
   ]
  },
  {
   "cell_type": "markdown",
   "id": "d7ca2804-d7e8-4503-9eaf-8fa201b3742b",
   "metadata": {},
   "source": [
    "Update original array with excluded area where siting occurred"
   ]
  },
  {
   "cell_type": "markdown",
   "id": "403838cf-d6e4-42c5-a762-79235755b840",
   "metadata": {},
   "source": [
    "-- **START Subcondition 2**\n",
    "\n",
    "If target technology has no more sites to be sited make all elements for the target tech in the NLC mask unsuitable so we can progress\n",
    "\n",
    "```python\n",
    "if self.expansion_dict[tech_id] == 0:\n",
    "```"
   ]
  },
  {
   "cell_type": "code",
   "execution_count": 59,
   "id": "6b1c9b22-179d-47a5-8416-b6a58486d80d",
   "metadata": {},
   "outputs": [
    {
     "data": {
      "text/plain": [
       "False"
      ]
     },
     "execution_count": 59,
     "metadata": {},
     "output_type": "execute_result"
    }
   ],
   "source": [
    "\n",
    "expansion_dict[tech_id] == 0"
   ]
  },
  {
   "cell_type": "code",
   "execution_count": null,
   "id": "a00b450f-7a30-4c9d-b75d-32ff021e4c63",
   "metadata": {},
   "outputs": [],
   "source": [
    "# make all elements for the target tech in the NLC mask unsuitable so we can progress\n",
    "nlc_mask[tech_index, :, :] = np.ma.masked_array(self.nlc_mask[0, :, :], np.ones_like(self.nlc_mask[0, :, :]))\n"
   ]
  },
  {
   "cell_type": "markdown",
   "id": "c2988c6a-6038-4a9e-8afb-1382510a5893",
   "metadata": {},
   "source": [
    "-- **END Subcondition 2**"
   ]
  },
  {
   "cell_type": "markdown",
   "id": "ff791ca8-19a5-4110-a3e0-8c08052ab9ba",
   "metadata": {},
   "source": [
    "Apply the new exclusion for sited area from the current technology to all techs...\n",
    " - invert sited elements to have a value of 1 so they can be used as a mask\n",
    " - repeat the new sited array to create a mask for all techs and reshape to 2D\n",
    " - update all technologies with the new mask\n",
    " "
   ]
  },
  {
   "cell_type": "code",
   "execution_count": 60,
   "id": "701a0663-4477-46b4-aae6-1fffd2968401",
   "metadata": {},
   "outputs": [],
   "source": [
    "nlc_mask[1:, :, :] = np.ma.masked_array(nlc_mask[1:, :, :],\n",
    "                                        np.tile(np.where(cheapest_arr_1d == 0, 1, 0),\n",
    "                                                nlc_mask_shape[0] - 1).reshape(\n",
    "                                                 (nlc_mask_shape[0] - 1,\n",
    "                                                  nlc_mask_shape[1],\n",
    "                                                  nlc_mask_shape[2])))\n"
   ]
  },
  {
   "cell_type": "markdown",
   "id": "b380c6dd-68ef-42ab-bb0f-bc881345759d",
   "metadata": {},
   "source": [
    "-- **START Subcondition 3**\n",
    "\n",
    "If the technology has achieved its full expansion, then mask the rest of its suitable area so other technologies can now compete for the grid cells it previously won but now no longer needs\n",
    "\n",
    "```python\n",
    "if self.expansion_dict[tech_id]['n_sites'] == 0:\n",
    "```\n"
   ]
  },
  {
   "cell_type": "code",
   "execution_count": 61,
   "id": "8579940e-0b50-4cc9-820c-cdab5fb64186",
   "metadata": {},
   "outputs": [
    {
     "data": {
      "text/plain": [
       "False"
      ]
     },
     "execution_count": 61,
     "metadata": {},
     "output_type": "execute_result"
    }
   ],
   "source": [
    "expansion_dict[tech_id]['n_sites'] == 0"
   ]
  },
  {
   "cell_type": "code",
   "execution_count": 66,
   "id": "a99a5ab6-302d-4281-8264-6988d3f379a9",
   "metadata": {},
   "outputs": [],
   "source": [
    "nlc_mask[tech_index, :, :] = np.ma.masked_array(nlc_mask[tech_index, :, :], np.ones_like(nlc_mask[tech_index, :, :]))\n"
   ]
  },
  {
   "cell_type": "markdown",
   "id": "4737c406-4783-4e00-be27-e135129d0f07",
   "metadata": {},
   "source": [
    "-- **END Subcondition 3**"
   ]
  },
  {
   "cell_type": "markdown",
   "id": "94b6c0e9-adf6-474a-a356-234e528a9114",
   "metadata": {},
   "source": [
    "Recalculate the cheapest technology option per grid cell"
   ]
  },
  {
   "cell_type": "code",
   "execution_count": 62,
   "id": "d2eb427a-f7e0-47f6-a3e6-a1f01488678c",
   "metadata": {},
   "outputs": [],
   "source": [
    "# show cheapest option, add 1 to the index to represent the technology number\n",
    "cheapest_arr = np.argmin(nlc_mask, axis=0)\n"
   ]
  },
  {
   "cell_type": "code",
   "execution_count": 63,
   "id": "9915f6d3-2713-4d3e-8a7b-5158aa8f31b5",
   "metadata": {},
   "outputs": [],
   "source": [
    "# flatten cheapest array to be able to use random\n",
    "cheapest_arr_1d = cheapest_arr.flatten()\n"
   ]
  },
  {
   "cell_type": "code",
   "execution_count": 64,
   "id": "1691059a-89bd-4a26-927d-a6d93a699655",
   "metadata": {},
   "outputs": [
    {
     "data": {
      "text/plain": [
       "103243"
      ]
     },
     "execution_count": 64,
     "metadata": {},
     "output_type": "execute_result"
    }
   ],
   "source": [
    "# check for any available grids to site in\n",
    "avail_grids = np.where(cheapest_arr_1d > 0)[0].shape[0]\n",
    "\n",
    "avail_grids\n"
   ]
  },
  {
   "cell_type": "code",
   "execution_count": 65,
   "id": "783fc0ab-9458-4584-9bd0-18f706135144",
   "metadata": {},
   "outputs": [
    {
     "data": {
      "text/plain": [
       "48"
      ]
     },
     "execution_count": 65,
     "metadata": {},
     "output_type": "execute_result"
    }
   ],
   "source": [
    "# are there any sites left to site\n",
    "left_to_site = sum([expansion_dict[i]['n_sites'] for i in expansion_dict.keys()])\n",
    "\n",
    "left_to_site\n"
   ]
  },
  {
   "cell_type": "markdown",
   "id": "55bd999b-d1d9-463b-a533-46f32717b54c",
   "metadata": {},
   "source": [
    "-- **START Subcondition 4**\n",
    "\n",
    "Stop technology iteration if all area is consumed or if all sites have been sited\n",
    "\n",
    "```python\n",
    "if self.avail_grids == 0 or left_to_site == 0:\n",
    "```"
   ]
  },
  {
   "cell_type": "code",
   "execution_count": 66,
   "id": "b5ebda6a-8411-48b0-aaf1-5a681e3b2d1d",
   "metadata": {},
   "outputs": [
    {
     "data": {
      "text/plain": [
       "False"
      ]
     },
     "execution_count": 66,
     "metadata": {},
     "output_type": "execute_result"
    }
   ],
   "source": [
    "avail_grids == 0 or left_to_site == 0"
   ]
  },
  {
   "cell_type": "code",
   "execution_count": null,
   "id": "1fa52cd4-7e74-4b86-99f0-0fc64e562848",
   "metadata": {},
   "outputs": [],
   "source": [
    "keep_siting = False"
   ]
  },
  {
   "cell_type": "markdown",
   "id": "26acb8b3-8243-4a98-a755-9732cbbb7dd3",
   "metadata": {},
   "source": [
    "-- **END Subcondition 4**"
   ]
  },
  {
   "cell_type": "markdown",
   "id": "a99be166-f5df-41f0-825d-6de7885b838e",
   "metadata": {},
   "source": [
    "-- **START Condition 2**\n",
    "\n",
    "```python \n",
    "# there are no more suitable grid cells\n",
    "elif self.avail_grids == 0:\n",
    "    keep_siting = False\n",
    "```\n"
   ]
  },
  {
   "cell_type": "code",
   "execution_count": 32,
   "id": "450ec635-8b08-468a-96cb-6cba36280a7d",
   "metadata": {},
   "outputs": [
    {
     "data": {
      "text/plain": [
       "False"
      ]
     },
     "execution_count": 32,
     "metadata": {},
     "output_type": "execute_result"
    }
   ],
   "source": [
    "avail_grids == 0"
   ]
  },
  {
   "cell_type": "code",
   "execution_count": null,
   "id": "fe7737c5-add4-4c04-989e-ffa94ddcea54",
   "metadata": {},
   "outputs": [],
   "source": [
    "keep_siting = False\n"
   ]
  },
  {
   "cell_type": "markdown",
   "id": "d611df1e-1c7f-41c9-824e-e749e36bf377",
   "metadata": {},
   "source": [
    "-- **END Condition 2**"
   ]
  },
  {
   "cell_type": "markdown",
   "id": "7962895d-5392-4e58-a02e-2508f3dc76ad",
   "metadata": {},
   "source": [
    "-- **START Condition 3**\n",
    "\n",
    "```python\n",
    "# if there are available grids and a cheapest option available but no more required sites\n",
    "elif self.avail_grids > 0 and tech.shape[0] > 0 and required_sites == 0:\n",
    "```"
   ]
  },
  {
   "cell_type": "code",
   "execution_count": 33,
   "id": "4bc879f1-d965-4ae1-abc9-96bb57dcfabb",
   "metadata": {},
   "outputs": [
    {
     "data": {
      "text/plain": [
       "(True, False, True)"
      ]
     },
     "execution_count": 33,
     "metadata": {},
     "output_type": "execute_result"
    }
   ],
   "source": [
    "avail_grids > 0, tech.shape[0] > 0, required_sites == 0"
   ]
  },
  {
   "cell_type": "markdown",
   "id": "70918559-0eb5-4741-8e7e-5b73ba76d300",
   "metadata": {},
   "source": [
    "If there are no required sites, then mask the rest of the techs suitable area so other technologies can now compete for the grid cells it previously won but now no longer needs"
   ]
  },
  {
   "cell_type": "code",
   "execution_count": null,
   "id": "0e02dfc6-7ddc-44de-9705-b17af8852529",
   "metadata": {},
   "outputs": [],
   "source": [
    "nlc_mask[tech_index, :, :] = np.ma.masked_array(nlc_mask[tech_index, :, :], np.ones_like(nlc_mask[tech_index, :, :]))\n"
   ]
  },
  {
   "cell_type": "code",
   "execution_count": null,
   "id": "6b68f98a-6eca-416b-b07e-2f092b75f654",
   "metadata": {},
   "outputs": [],
   "source": [
    "# show cheapest option, add 1 to the index to represent the technology number\n",
    "cheapest_arr = np.argmin(nlc_mask, axis=0)\n"
   ]
  },
  {
   "cell_type": "code",
   "execution_count": null,
   "id": "0411033f-8f6c-4cde-9d37-f8693b4eb55d",
   "metadata": {},
   "outputs": [],
   "source": [
    "# flatten cheapest array to be able to use random\n",
    "cheapest_arr_1d = cheapest_arr.flatten()\n"
   ]
  },
  {
   "cell_type": "code",
   "execution_count": null,
   "id": "fbe8ef2b-5694-4cec-a9c8-b3576ad7d240",
   "metadata": {},
   "outputs": [],
   "source": [
    "# check for any available grids to site in\n",
    "avail_grids = np.where(cheapest_arr_1d > 0)[0].shape[0]\n"
   ]
  },
  {
   "cell_type": "markdown",
   "id": "6fb91c0d-c8c5-4052-b461-0759bda900ec",
   "metadata": {},
   "source": [
    "-- **END Condition 3**"
   ]
  },
  {
   "cell_type": "markdown",
   "id": "17446b4e-c16b-415c-8ea5-a04af9873209",
   "metadata": {},
   "source": [
    "####  **NOTE**:  there is no resolving condition.  Need to add this in"
   ]
  },
  {
   "cell_type": "markdown",
   "id": "58aff344-0751-4ebf-84f7-e28424f6fb15",
   "metadata": {},
   "source": [
    "At the end of any condition a data frame is created...\n",
    "\n",
    "NOTE:  I believe this should only happen at the end, not in each iteration"
   ]
  },
  {
   "cell_type": "code",
   "execution_count": 67,
   "id": "62a3d316-cc20-405b-a9be-b930109435b9",
   "metadata": {},
   "outputs": [
    {
     "data": {
      "text/html": [
       "<div>\n",
       "<style scoped>\n",
       "    .dataframe tbody tr th:only-of-type {\n",
       "        vertical-align: middle;\n",
       "    }\n",
       "\n",
       "    .dataframe tbody tr th {\n",
       "        vertical-align: top;\n",
       "    }\n",
       "\n",
       "    .dataframe thead th {\n",
       "        text-align: right;\n",
       "    }\n",
       "</style>\n",
       "<table border=\"1\" class=\"dataframe\">\n",
       "  <thead>\n",
       "    <tr style=\"text-align: right;\">\n",
       "      <th></th>\n",
       "      <th>region_name</th>\n",
       "      <th>tech_id</th>\n",
       "      <th>tech_name</th>\n",
       "      <th>unit_size_mw</th>\n",
       "      <th>xcoord</th>\n",
       "      <th>ycoord</th>\n",
       "      <th>index</th>\n",
       "      <th>buffer_in_km</th>\n",
       "      <th>sited_year</th>\n",
       "      <th>retirement_year</th>\n",
       "      <th>lmp_zone</th>\n",
       "      <th>locational_marginal_pricing</th>\n",
       "      <th>net_operational_value</th>\n",
       "      <th>interconnection_cost</th>\n",
       "      <th>net_locational_cost</th>\n",
       "    </tr>\n",
       "  </thead>\n",
       "  <tbody>\n",
       "    <tr>\n",
       "      <th>0</th>\n",
       "      <td>virginia</td>\n",
       "      <td>8</td>\n",
       "      <td>gas_cc_wo_ccs</td>\n",
       "      <td>400.0</td>\n",
       "      <td>1.765947e+06</td>\n",
       "      <td>245434.7995</td>\n",
       "      <td>6405423</td>\n",
       "      <td>5</td>\n",
       "      <td>2030</td>\n",
       "      <td>2075</td>\n",
       "      <td>30</td>\n",
       "      <td>315.933519</td>\n",
       "      <td>1.677825e+10</td>\n",
       "      <td>1.760184e+06</td>\n",
       "      <td>-1.677649e+10</td>\n",
       "    </tr>\n",
       "  </tbody>\n",
       "</table>\n",
       "</div>"
      ],
      "text/plain": [
       "  region_name  tech_id      tech_name  unit_size_mw        xcoord  \\\n",
       "0    virginia        8  gas_cc_wo_ccs         400.0  1.765947e+06   \n",
       "\n",
       "        ycoord    index  buffer_in_km  sited_year  retirement_year  lmp_zone  \\\n",
       "0  245434.7995  6405423             5        2030             2075        30   \n",
       "\n",
       "   locational_marginal_pricing  net_operational_value  interconnection_cost  \\\n",
       "0                   315.933519           1.677825e+10          1.760184e+06   \n",
       "\n",
       "   net_locational_cost  \n",
       "0        -1.677649e+10  "
      ]
     },
     "execution_count": 67,
     "metadata": {},
     "output_type": "execute_result"
    }
   ],
   "source": [
    "sited_dtypes = {'region_name': str,\n",
    "                'tech_id': np.int64,\n",
    "                'tech_name': str,\n",
    "                'unit_size_mw': np.float64,\n",
    "                'xcoord': np.float64,\n",
    "                'ycoord': np.float64,\n",
    "                'lmp_zone': np.int64,\n",
    "                'locational_marginal_pricing': np.float64,\n",
    "                'net_operational_value': np.float64,\n",
    "                'interconnection_cost': np.float64,\n",
    "                'net_locational_cost': np.float64,\n",
    "                'index': np.int64,\n",
    "                'retirement_year': np.int64,\n",
    "                'sited_year': np.int64,\n",
    "                'buffer_in_km': np.int64}\n",
    "\n",
    "# create sited data frame\n",
    "df = pd.DataFrame(sited_dict).astype(sited_dtypes)\n",
    "\n",
    "df\n"
   ]
  },
  {
   "cell_type": "markdown",
   "id": "b7a51505-ed73-40bf-820b-fd7e51d63966",
   "metadata": {},
   "source": [
    "-- **END for loop**"
   ]
  },
  {
   "cell_type": "markdown",
   "id": "2c7d89a2-dcd6-4ea9-869e-e5a66a5e9fb6",
   "metadata": {},
   "source": [
    "-- **END while loop**"
   ]
  },
  {
   "cell_type": "markdown",
   "id": "d7e8a465-a5c1-4665-9844-5d07d94f3b93",
   "metadata": {},
   "source": [
    "The following 2D array along with the data frame for sited power plants will be returned.\n",
    "\n",
    "NOTE:  the power plants are hard to distinguish in the image below because of the scale; look for the tiny dots in the northeast portion"
   ]
  },
  {
   "cell_type": "code",
   "execution_count": 76,
   "id": "86da2ede-7086-4a11-ac82-f80be97a6a3d",
   "metadata": {},
   "outputs": [
    {
     "data": {
      "image/png": "[encoded data removed]",
      "text/plain": [
       "<Figure size 1224x1224 with 2 Axes>"
      ]
     },
     "metadata": {
      "needs_background": "light"
     },
     "output_type": "display_data"
    }
   ],
   "source": [
    "plot_array(sited_arr_1d.reshape(cheapest_arr.shape), figsize=(17, 17))"
   ]
  }
 ],
 "metadata": {
  "kernelspec": {
   "display_name": "py3.9.4_cerf",
   "language": "python",
   "name": "py3.9.4_cerf"
  },
  "language_info": {
   "codemirror_mode": {
    "name": "ipython",
    "version": 3
   },
   "file_extension": ".py",
   "mimetype": "text/x-python",
   "name": "python",
   "nbconvert_exporter": "python",
   "pygments_lexer": "ipython3",
   "version": "3.9.4"
  }
 },
 "nbformat": 4,
 "nbformat_minor": 5
}
